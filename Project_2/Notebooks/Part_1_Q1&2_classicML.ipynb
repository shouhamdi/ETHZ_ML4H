{
 "cells": [
  {
   "cell_type": "code",
   "execution_count": 107,
   "id": "c34ee2b4",
   "metadata": {},
   "outputs": [],
   "source": [
    "import os\n",
    "import sys\n",
    "import pandas as pd\n",
    "import numpy as np\n",
    "\n",
    "import matplotlib.pyplot as plt\n",
    "import seaborn as sns\n",
    "\n",
    "\n",
    "from sklearn.linear_model import LogisticRegression\n",
    "from sklearn.ensemble import RandomForestClassifier\n",
    "from sklearn.svm import SVC\n",
    "from sklearn.model_selection import GridSearchCV\n",
    "\n",
    "from sklearn.metrics import confusion_matrix, ConfusionMatrixDisplay\n",
    "from sklearn.metrics import accuracy_score\n",
    "from sklearn.metrics import f1_score\n",
    "from sklearn.metrics import classification_report\n",
    "from sklearn.metrics import roc_auc_score\n",
    "\n",
    "from tsfresh import select_features\n",
    "from tsfresh import extract_features\n",
    "from tsfresh.utilities.dataframe_functions import impute\n",
    "from tsfresh.feature_extraction import MinimalFCParameters\n",
    "from tsfresh.feature_extraction import EfficientFCParameters\n",
    "\n",
    "import torch\n",
    "import torch.nn as nn\n",
    "from tqdm import tqdm"
   ]
  },
  {
   "cell_type": "code",
   "execution_count": 2,
   "id": "c54157b1",
   "metadata": {},
   "outputs": [],
   "source": [
    "train_set = pd.read_csv(\"project2_TS_input/ptbdb_train.csv\", header=None)\n",
    "test_set = pd.read_csv(\"project2_TS_input/ptbdb_test.csv\", header=None)"
   ]
  },
  {
   "cell_type": "markdown",
   "id": "7489154d",
   "metadata": {},
   "source": [
    "# 1. Exploratory Data Analysis "
   ]
  },
  {
   "cell_type": "code",
   "execution_count": 3,
   "id": "5c234689",
   "metadata": {},
   "outputs": [
    {
     "data": {
      "text/html": [
       "<div>\n",
       "<style scoped>\n",
       "    .dataframe tbody tr th:only-of-type {\n",
       "        vertical-align: middle;\n",
       "    }\n",
       "\n",
       "    .dataframe tbody tr th {\n",
       "        vertical-align: top;\n",
       "    }\n",
       "\n",
       "    .dataframe thead th {\n",
       "        text-align: right;\n",
       "    }\n",
       "</style>\n",
       "<table border=\"1\" class=\"dataframe\">\n",
       "  <thead>\n",
       "    <tr style=\"text-align: right;\">\n",
       "      <th></th>\n",
       "      <th>0</th>\n",
       "      <th>1</th>\n",
       "      <th>2</th>\n",
       "      <th>3</th>\n",
       "      <th>4</th>\n",
       "      <th>5</th>\n",
       "      <th>6</th>\n",
       "      <th>7</th>\n",
       "      <th>8</th>\n",
       "      <th>9</th>\n",
       "      <th>...</th>\n",
       "      <th>178</th>\n",
       "      <th>179</th>\n",
       "      <th>180</th>\n",
       "      <th>181</th>\n",
       "      <th>182</th>\n",
       "      <th>183</th>\n",
       "      <th>184</th>\n",
       "      <th>185</th>\n",
       "      <th>186</th>\n",
       "      <th>187</th>\n",
       "    </tr>\n",
       "  </thead>\n",
       "  <tbody>\n",
       "    <tr>\n",
       "      <th>0</th>\n",
       "      <td>1.000000</td>\n",
       "      <td>0.730599</td>\n",
       "      <td>0.472859</td>\n",
       "      <td>0.139526</td>\n",
       "      <td>0.000000</td>\n",
       "      <td>0.020507</td>\n",
       "      <td>0.112183</td>\n",
       "      <td>0.162847</td>\n",
       "      <td>0.180941</td>\n",
       "      <td>0.192199</td>\n",
       "      <td>...</td>\n",
       "      <td>0.0</td>\n",
       "      <td>0.0</td>\n",
       "      <td>0.0</td>\n",
       "      <td>0.0</td>\n",
       "      <td>0.0</td>\n",
       "      <td>0.0</td>\n",
       "      <td>0.0</td>\n",
       "      <td>0.0</td>\n",
       "      <td>0.0</td>\n",
       "      <td>1.0</td>\n",
       "    </tr>\n",
       "    <tr>\n",
       "      <th>1</th>\n",
       "      <td>1.000000</td>\n",
       "      <td>0.152446</td>\n",
       "      <td>0.011377</td>\n",
       "      <td>0.308305</td>\n",
       "      <td>0.153584</td>\n",
       "      <td>0.096701</td>\n",
       "      <td>0.083049</td>\n",
       "      <td>0.086462</td>\n",
       "      <td>0.105802</td>\n",
       "      <td>0.071672</td>\n",
       "      <td>...</td>\n",
       "      <td>0.0</td>\n",
       "      <td>0.0</td>\n",
       "      <td>0.0</td>\n",
       "      <td>0.0</td>\n",
       "      <td>0.0</td>\n",
       "      <td>0.0</td>\n",
       "      <td>0.0</td>\n",
       "      <td>0.0</td>\n",
       "      <td>0.0</td>\n",
       "      <td>1.0</td>\n",
       "    </tr>\n",
       "    <tr>\n",
       "      <th>2</th>\n",
       "      <td>0.975917</td>\n",
       "      <td>0.693234</td>\n",
       "      <td>0.241399</td>\n",
       "      <td>0.107225</td>\n",
       "      <td>0.098050</td>\n",
       "      <td>0.072248</td>\n",
       "      <td>0.062500</td>\n",
       "      <td>0.054472</td>\n",
       "      <td>0.054472</td>\n",
       "      <td>0.045872</td>\n",
       "      <td>...</td>\n",
       "      <td>0.0</td>\n",
       "      <td>0.0</td>\n",
       "      <td>0.0</td>\n",
       "      <td>0.0</td>\n",
       "      <td>0.0</td>\n",
       "      <td>0.0</td>\n",
       "      <td>0.0</td>\n",
       "      <td>0.0</td>\n",
       "      <td>0.0</td>\n",
       "      <td>0.0</td>\n",
       "    </tr>\n",
       "    <tr>\n",
       "      <th>3</th>\n",
       "      <td>0.952505</td>\n",
       "      <td>0.587508</td>\n",
       "      <td>0.115810</td>\n",
       "      <td>0.072869</td>\n",
       "      <td>0.003904</td>\n",
       "      <td>0.025374</td>\n",
       "      <td>0.020169</td>\n",
       "      <td>0.020169</td>\n",
       "      <td>0.021470</td>\n",
       "      <td>0.014314</td>\n",
       "      <td>...</td>\n",
       "      <td>0.0</td>\n",
       "      <td>0.0</td>\n",
       "      <td>0.0</td>\n",
       "      <td>0.0</td>\n",
       "      <td>0.0</td>\n",
       "      <td>0.0</td>\n",
       "      <td>0.0</td>\n",
       "      <td>0.0</td>\n",
       "      <td>0.0</td>\n",
       "      <td>0.0</td>\n",
       "    </tr>\n",
       "    <tr>\n",
       "      <th>4</th>\n",
       "      <td>0.994152</td>\n",
       "      <td>0.525666</td>\n",
       "      <td>0.248213</td>\n",
       "      <td>0.070825</td>\n",
       "      <td>0.152047</td>\n",
       "      <td>0.258609</td>\n",
       "      <td>0.315789</td>\n",
       "      <td>0.346979</td>\n",
       "      <td>0.352827</td>\n",
       "      <td>0.348928</td>\n",
       "      <td>...</td>\n",
       "      <td>0.0</td>\n",
       "      <td>0.0</td>\n",
       "      <td>0.0</td>\n",
       "      <td>0.0</td>\n",
       "      <td>0.0</td>\n",
       "      <td>0.0</td>\n",
       "      <td>0.0</td>\n",
       "      <td>0.0</td>\n",
       "      <td>0.0</td>\n",
       "      <td>1.0</td>\n",
       "    </tr>\n",
       "  </tbody>\n",
       "</table>\n",
       "<p>5 rows × 188 columns</p>\n",
       "</div>"
      ],
      "text/plain": [
       "        0         1         2         3         4         5         6    \\\n",
       "0  1.000000  0.730599  0.472859  0.139526  0.000000  0.020507  0.112183   \n",
       "1  1.000000  0.152446  0.011377  0.308305  0.153584  0.096701  0.083049   \n",
       "2  0.975917  0.693234  0.241399  0.107225  0.098050  0.072248  0.062500   \n",
       "3  0.952505  0.587508  0.115810  0.072869  0.003904  0.025374  0.020169   \n",
       "4  0.994152  0.525666  0.248213  0.070825  0.152047  0.258609  0.315789   \n",
       "\n",
       "        7         8         9    ...  178  179  180  181  182  183  184  185  \\\n",
       "0  0.162847  0.180941  0.192199  ...  0.0  0.0  0.0  0.0  0.0  0.0  0.0  0.0   \n",
       "1  0.086462  0.105802  0.071672  ...  0.0  0.0  0.0  0.0  0.0  0.0  0.0  0.0   \n",
       "2  0.054472  0.054472  0.045872  ...  0.0  0.0  0.0  0.0  0.0  0.0  0.0  0.0   \n",
       "3  0.020169  0.021470  0.014314  ...  0.0  0.0  0.0  0.0  0.0  0.0  0.0  0.0   \n",
       "4  0.346979  0.352827  0.348928  ...  0.0  0.0  0.0  0.0  0.0  0.0  0.0  0.0   \n",
       "\n",
       "   186  187  \n",
       "0  0.0  1.0  \n",
       "1  0.0  1.0  \n",
       "2  0.0  0.0  \n",
       "3  0.0  0.0  \n",
       "4  0.0  1.0  \n",
       "\n",
       "[5 rows x 188 columns]"
      ]
     },
     "execution_count": 3,
     "metadata": {},
     "output_type": "execute_result"
    }
   ],
   "source": [
    "train_set.head()"
   ]
  },
  {
   "cell_type": "code",
   "execution_count": 4,
   "id": "1b0c4fef",
   "metadata": {},
   "outputs": [
    {
     "data": {
      "text/plain": [
       "(11641, 188)"
      ]
     },
     "execution_count": 4,
     "metadata": {},
     "output_type": "execute_result"
    }
   ],
   "source": [
    "train_set.shape"
   ]
  },
  {
   "cell_type": "code",
   "execution_count": 5,
   "id": "34494a22",
   "metadata": {},
   "outputs": [
    {
     "data": {
      "text/plain": [
       "(2911, 188)"
      ]
     },
     "execution_count": 5,
     "metadata": {},
     "output_type": "execute_result"
    }
   ],
   "source": [
    "test_set.shape"
   ]
  },
  {
   "cell_type": "code",
   "execution_count": 6,
   "id": "4e6e413b",
   "metadata": {},
   "outputs": [],
   "source": [
    "y_train=train_set.iloc[:,-1]\n",
    "X_train = train_set.iloc[:,:-1]\n",
    "y_test=test_set.iloc[:,-1]\n",
    "X_test = test_set.iloc[:,:-1]"
   ]
  },
  {
   "cell_type": "markdown",
   "id": "4b336374",
   "metadata": {},
   "source": [
    "### Labels distribution"
   ]
  },
  {
   "cell_type": "code",
   "execution_count": 30,
   "id": "f9f606a4",
   "metadata": {},
   "outputs": [
    {
     "data": {
      "text/plain": [
       "<AxesSubplot:>"
      ]
     },
     "execution_count": 30,
     "metadata": {},
     "output_type": "execute_result"
    },
    {
     "data": {
      "image/png": "[encoded data removed]",
      "text/plain": [
       "<Figure size 432x288 with 1 Axes>"
      ]
     },
     "metadata": {
      "needs_background": "light"
     },
     "output_type": "display_data"
    }
   ],
   "source": [
    "y_train.hist()"
   ]
  },
  {
   "cell_type": "code",
   "execution_count": 31,
   "id": "8e335b57",
   "metadata": {},
   "outputs": [
    {
     "data": {
      "text/plain": [
       "<AxesSubplot:>"
      ]
     },
     "execution_count": 31,
     "metadata": {},
     "output_type": "execute_result"
    },
    {
     "data": {
      "image/png": "[encoded data removed]",
      "text/plain": [
       "<Figure size 432x288 with 1 Axes>"
      ]
     },
     "metadata": {
      "needs_background": "light"
     },
     "output_type": "display_data"
    }
   ],
   "source": [
    "y_test.hist()"
   ]
  },
  {
   "cell_type": "markdown",
   "id": "28e73d9d",
   "metadata": {},
   "source": [
    "### Plotting ECGs"
   ]
  },
  {
   "cell_type": "code",
   "execution_count": 32,
   "id": "9f22ed7b",
   "metadata": {},
   "outputs": [
    {
     "data": {
      "image/png": "[encoded data removed]",
      "text/plain": [
       "<Figure size 864x720 with 5 Axes>"
      ]
     },
     "metadata": {
      "needs_background": "light"
     },
     "output_type": "display_data"
    }
   ],
   "source": [
    "fig, axs = plt.subplots(5, figsize=(12, 10))\n",
    "\n",
    "# Iterate through the first 5 ECG signals\n",
    "for i in range(5):\n",
    "    # Plot the ECG signal on the corresponding subplot\n",
    "    axs[i].plot(X_train.iloc[i,:])\n",
    "\n",
    "    # Add title and labels for each subplot\n",
    "    axs[i].set_title(f'ECG Signal {i + 1}')\n",
    "    axs[i].set_xlabel('Time')\n",
    "    axs[i].set_ylabel('Amplitude')\n",
    "\n",
    "# Adjust the layout and show the plot\n",
    "plt.tight_layout()\n",
    "plt.show()"
   ]
  },
  {
   "cell_type": "markdown",
   "id": "5c82ecaa",
   "metadata": {},
   "source": [
    "We can use accuracy, f1 score, AUC"
   ]
  },
  {
   "cell_type": "markdown",
   "id": "3c1c0eaa",
   "metadata": {},
   "source": [
    "# 2. Classic Machine learning methods"
   ]
  },
  {
   "cell_type": "markdown",
   "id": "59f6894b",
   "metadata": {},
   "source": [
    "## Training on raw data"
   ]
  },
  {
   "cell_type": "markdown",
   "id": "6710391f",
   "metadata": {},
   "source": [
    "### Logistic regression"
   ]
  },
  {
   "cell_type": "code",
   "execution_count": 8,
   "id": "378ffdb7",
   "metadata": {},
   "outputs": [
    {
     "name": "stderr",
     "output_type": "stream",
     "text": [
      "/Users/evasarlin/opt/anaconda3/lib/python3.8/site-packages/sklearn/linear_model/_logistic.py:814: ConvergenceWarning: lbfgs failed to converge (status=1):\n",
      "STOP: TOTAL NO. of ITERATIONS REACHED LIMIT.\n",
      "\n",
      "Increase the number of iterations (max_iter) or scale the data as shown in:\n",
      "    https://scikit-learn.org/stable/modules/preprocessing.html\n",
      "Please also refer to the documentation for alternative solver options:\n",
      "    https://scikit-learn.org/stable/modules/linear_model.html#logistic-regression\n",
      "  n_iter_i = _check_optimize_result(\n"
     ]
    },
    {
     "name": "stdout",
     "output_type": "stream",
     "text": [
      "              precision    recall  f1-score   support\n",
      "\n",
      "         0.0       0.72      0.58      0.64       809\n",
      "         1.0       0.85      0.92      0.88      2102\n",
      "\n",
      "    accuracy                           0.82      2911\n",
      "   macro avg       0.79      0.75      0.76      2911\n",
      "weighted avg       0.82      0.82      0.82      2911\n",
      "\n",
      "F1:  0.8813559322033898\n",
      "Accuracy: 0.8221\n"
     ]
    },
    {
     "data": {
      "image/png": "[encoded data removed]",
      "text/plain": [
       "<Figure size 432x288 with 2 Axes>"
      ]
     },
     "metadata": {
      "needs_background": "light"
     },
     "output_type": "display_data"
    }
   ],
   "source": [
    "# Define the logistic regression model\n",
    "log_reg = LogisticRegression(random_state=42)\n",
    "\n",
    "log_reg.fit(X_train, y_train)\n",
    "    \n",
    "y_pred = log_reg.predict(X_test)\n",
    "\n",
    "cm = ConfusionMatrixDisplay.from_predictions(y_test, y_pred, \n",
    "                                            display_labels=['Class 0', 'Class 1'], \n",
    "                                            cmap='Blues', \n",
    "                                            normalize=None)\n",
    " \n",
    "print(classification_report(y_test, y_pred))\n",
    "print(\"F1: \",f1_score(y_test, y_pred))\n",
    "print(f'Accuracy: {accuracy_score(y_test, y_pred):.4f}')"
   ]
  },
  {
   "cell_type": "markdown",
   "id": "0e94538c",
   "metadata": {},
   "source": [
    "### Random Forest"
   ]
  },
  {
   "cell_type": "code",
   "execution_count": 9,
   "id": "7a6dda1e",
   "metadata": {},
   "outputs": [
    {
     "name": "stdout",
     "output_type": "stream",
     "text": [
      "              precision    recall  f1-score   support\n",
      "\n",
      "         0.0       0.97      0.92      0.94       809\n",
      "         1.0       0.97      0.99      0.98      2102\n",
      "\n",
      "    accuracy                           0.97      2911\n",
      "   macro avg       0.97      0.95      0.96      2911\n",
      "weighted avg       0.97      0.97      0.97      2911\n",
      "\n",
      "F1:  0.9790143834001415\n",
      "Accuracy: 0.9694\n"
     ]
    },
    {
     "data": {
      "image/png": "[encoded data removed]",
      "text/plain": [
       "<Figure size 432x288 with 2 Axes>"
      ]
     },
     "metadata": {
      "needs_background": "light"
     },
     "output_type": "display_data"
    }
   ],
   "source": [
    "rf = RandomForestClassifier(random_state=42)\n",
    "\n",
    "rf.fit(X_train, y_train)\n",
    "    \n",
    "y_pred = rf.predict(X_test)\n",
    "\n",
    "cm = ConfusionMatrixDisplay.from_predictions(y_test, y_pred, \n",
    "                                            display_labels=['Class 0', 'Class 1'], \n",
    "                                            cmap='Blues', \n",
    "                                            normalize=None)\n",
    " \n",
    "print(classification_report(y_test, y_pred))\n",
    "print(\"F1: \",f1_score(y_test, y_pred))\n",
    "print(f'Accuracy: {accuracy_score(y_test, y_pred):.4f}')"
   ]
  },
  {
   "cell_type": "markdown",
   "id": "fa835c0f",
   "metadata": {},
   "source": [
    "### SVM"
   ]
  },
  {
   "cell_type": "code",
   "execution_count": 10,
   "id": "1d17f78a",
   "metadata": {},
   "outputs": [
    {
     "name": "stdout",
     "output_type": "stream",
     "text": [
      "              precision    recall  f1-score   support\n",
      "\n",
      "         0.0       0.86      0.81      0.83       809\n",
      "         1.0       0.93      0.95      0.94      2102\n",
      "\n",
      "    accuracy                           0.91      2911\n",
      "   macro avg       0.89      0.88      0.89      2911\n",
      "weighted avg       0.91      0.91      0.91      2911\n",
      "\n",
      "F1:  0.9384869196323355\n",
      "Accuracy: 0.9103\n"
     ]
    },
    {
     "data": {
      "image/png": "[encoded data removed]",
      "text/plain": [
       "<Figure size 432x288 with 2 Axes>"
      ]
     },
     "metadata": {
      "needs_background": "light"
     },
     "output_type": "display_data"
    }
   ],
   "source": [
    "svm = SVC(random_state=42)\n",
    "\n",
    "svm.fit(X_train, y_train)\n",
    "    \n",
    "y_pred = svm.predict(X_test)\n",
    "\n",
    "cm = ConfusionMatrixDisplay.from_predictions(y_test, y_pred, \n",
    "                                            display_labels=['Class 0', 'Class 1'], \n",
    "                                            cmap='Blues', \n",
    "                                            normalize=None)\n",
    " \n",
    "print(classification_report(y_test, y_pred))\n",
    "print(\"F1: \",f1_score(y_test, y_pred))\n",
    "print(f'Accuracy: {accuracy_score(y_test, y_pred):.4f}')"
   ]
  },
  {
   "cell_type": "markdown",
   "id": "a8a4fe31",
   "metadata": {},
   "source": [
    "## Adding new features with tsfresh"
   ]
  },
  {
   "cell_type": "markdown",
   "id": "afc1ef9c",
   "metadata": {},
   "source": [
    "### extracting features from X_train and X_test"
   ]
  },
  {
   "cell_type": "code",
   "execution_count": null,
   "id": "a7b1ca05",
   "metadata": {},
   "outputs": [],
   "source": [
    "df=X_train.copy()\n",
    "\n",
    "df = df.reset_index()\n",
    "\n",
    "# Rename the 'index' column to 'id'\n",
    "df = df.rename(columns={'index': 'id'})\n",
    "\n",
    "# Transform the data frame using the 'melt' function\n",
    "new_df = pd.melt(\n",
    "    df,\n",
    "    id_vars=['id'],  # The 'id' column that corresponds to the row index of the original data frame\n",
    "    var_name='time',  # The new column name for the time steps\n",
    "    value_name='value'  # The new column name for the measurement values\n",
    ")\n",
    "\n",
    "# Ensure that 'time' column has numeric values\n",
    "new_df['time'] = pd.to_numeric(new_df['time'])\n",
    "\n",
    "new_df = new_df.sort_values(by=['id', 'time'])\n",
    "new_df"
   ]
  },
  {
   "cell_type": "code",
   "execution_count": null,
   "id": "ee7d1ce1",
   "metadata": {},
   "outputs": [],
   "source": [
    "# Extract features\n",
    "extracted_features = extract_features(new_df, column_id='id', column_sort='time')\n",
    "\n",
    "# Impute missing values\n",
    "impute(extracted_features)\n",
    "\n",
    "# Selecting important features\n",
    "important_features = select_features(extracted_features, y_train)"
   ]
  },
  {
   "cell_type": "code",
   "execution_count": null,
   "id": "1916e9f4",
   "metadata": {},
   "outputs": [],
   "source": [
    "df=X_test.copy()\n",
    "\n",
    "df = df.reset_index()\n",
    "\n",
    "# Rename the 'index' column to 'id'\n",
    "df = df.rename(columns={'index': 'id'})\n",
    "\n",
    "# Transform the data frame using the 'melt' function\n",
    "new_df_test = pd.melt(\n",
    "    df,\n",
    "    id_vars=['id'],  # The 'id' column that corresponds to the row index of the original data frame\n",
    "    var_name='time',  # The new column name for the time steps\n",
    "    value_name='value'  # The new column name for the measurement values\n",
    ")\n",
    "\n",
    "# Ensure that 'time' column has numeric values\n",
    "new_df_test['time'] = pd.to_numeric(new_df_test['time'])\n",
    "\n",
    "new_df_test = new_df_test.sort_values(by=['id', 'time'])"
   ]
  },
  {
   "cell_type": "code",
   "execution_count": null,
   "id": "e21f02b7",
   "metadata": {},
   "outputs": [],
   "source": [
    "# Extract features from new_df_test and select only the important features based on the training data\n",
    "extracted_features_test = extract_features(new_df_test, column_id='id', column_sort='time')\n",
    "important_features_test = extracted_features_test[important_features.columns]\n",
    "\n",
    "# Impute missing values\n",
    "impute(important_features_test)"
   ]
  },
  {
   "cell_type": "code",
   "execution_count": null,
   "id": "10f69ff8",
   "metadata": {},
   "outputs": [],
   "source": [
    "# Save the important_features data frame as a CSV file\n",
    "important_features.to_csv('important_features.csv', index=False)\n",
    "important_features_test.to_csv('important_features_test.csv', index=False)"
   ]
  },
  {
   "cell_type": "code",
   "execution_count": 13,
   "id": "ebe84bb5",
   "metadata": {},
   "outputs": [],
   "source": [
    "important_features = pd.read_csv(\"important_features.csv\")\n",
    "important_features_test = pd.read_csv(\"important_features_test.csv\")"
   ]
  },
  {
   "cell_type": "markdown",
   "id": "1d532736",
   "metadata": {},
   "source": [
    "### Train models on train set completed with selected features"
   ]
  },
  {
   "cell_type": "code",
   "execution_count": 16,
   "id": "4f08cf35",
   "metadata": {},
   "outputs": [],
   "source": [
    "# Merge the extracted features with original data frame (X_train)\n",
    "X_train_with_tsfresh = pd.concat([X_train, important_features], axis=1)\n",
    "X_test_with_tsfresh = pd.concat([X_test, important_features_test], axis=1)"
   ]
  },
  {
   "cell_type": "code",
   "execution_count": 35,
   "id": "516b4de4",
   "metadata": {},
   "outputs": [
    {
     "name": "stderr",
     "output_type": "stream",
     "text": [
      "/Users/evasarlin/opt/anaconda3/lib/python3.8/site-packages/sklearn/utils/validation.py:1688: FutureWarning: Feature names only support names that are all strings. Got feature names with dtypes: ['int', 'str']. An error will be raised in 1.2.\n",
      "  warnings.warn(\n",
      "/Users/evasarlin/opt/anaconda3/lib/python3.8/site-packages/sklearn/linear_model/_logistic.py:814: ConvergenceWarning: lbfgs failed to converge (status=1):\n",
      "STOP: TOTAL NO. of ITERATIONS REACHED LIMIT.\n",
      "\n",
      "Increase the number of iterations (max_iter) or scale the data as shown in:\n",
      "    https://scikit-learn.org/stable/modules/preprocessing.html\n",
      "Please also refer to the documentation for alternative solver options:\n",
      "    https://scikit-learn.org/stable/modules/linear_model.html#logistic-regression\n",
      "  n_iter_i = _check_optimize_result(\n",
      "/Users/evasarlin/opt/anaconda3/lib/python3.8/site-packages/sklearn/utils/validation.py:1688: FutureWarning: Feature names only support names that are all strings. Got feature names with dtypes: ['int', 'str']. An error will be raised in 1.2.\n",
      "  warnings.warn(\n"
     ]
    },
    {
     "name": "stdout",
     "output_type": "stream",
     "text": [
      "              precision    recall  f1-score   support\n",
      "\n",
      "         0.0       0.82      0.77      0.80       809\n",
      "         1.0       0.91      0.94      0.92      2102\n",
      "\n",
      "    accuracy                           0.89      2911\n",
      "   macro avg       0.87      0.85      0.86      2911\n",
      "weighted avg       0.89      0.89      0.89      2911\n",
      "\n",
      "F1:  0.9248120300751879\n",
      "Accuracy: 0.8901\n"
     ]
    },
    {
     "data": {
      "image/png": "[encoded data removed]",
      "text/plain": [
       "<Figure size 432x288 with 2 Axes>"
      ]
     },
     "metadata": {
      "needs_background": "light"
     },
     "output_type": "display_data"
    }
   ],
   "source": [
    "log_reg = LogisticRegression(random_state=42)\n",
    "log_reg.fit(X_train_with_tsfresh, y_train)\n",
    "    \n",
    "y_pred = log_reg.predict(X_test_with_tsfresh)\n",
    "\n",
    "cm = ConfusionMatrixDisplay.from_predictions(y_test, y_pred, \n",
    "                                            display_labels=['Class 0', 'Class 1'], \n",
    "                                            cmap='Blues', \n",
    "                                            normalize=None)\n",
    " \n",
    "print(classification_report(y_test, y_pred))\n",
    "print(\"F1: \",f1_score(y_test, y_pred))\n",
    "print(f'Accuracy: {accuracy_score(y_test, y_pred):.4f}')"
   ]
  },
  {
   "cell_type": "code",
   "execution_count": 17,
   "id": "95eb0800",
   "metadata": {},
   "outputs": [
    {
     "name": "stderr",
     "output_type": "stream",
     "text": [
      "/Users/evasarlin/opt/anaconda3/lib/python3.8/site-packages/sklearn/utils/validation.py:1688: FutureWarning: Feature names only support names that are all strings. Got feature names with dtypes: ['int', 'str']. An error will be raised in 1.2.\n",
      "  warnings.warn(\n",
      "/Users/evasarlin/opt/anaconda3/lib/python3.8/site-packages/sklearn/utils/validation.py:1688: FutureWarning: Feature names only support names that are all strings. Got feature names with dtypes: ['int', 'str']. An error will be raised in 1.2.\n",
      "  warnings.warn(\n"
     ]
    },
    {
     "name": "stdout",
     "output_type": "stream",
     "text": [
      "              precision    recall  f1-score   support\n",
      "\n",
      "         0.0       0.99      0.94      0.96       809\n",
      "         1.0       0.98      1.00      0.99      2102\n",
      "\n",
      "    accuracy                           0.98      2911\n",
      "   macro avg       0.98      0.97      0.97      2911\n",
      "weighted avg       0.98      0.98      0.98      2911\n",
      "\n",
      "F1:  0.9863272041489862\n",
      "Accuracy: 0.9801\n"
     ]
    },
    {
     "data": {
      "image/png": "[encoded data removed]",
      "text/plain": [
       "<Figure size 432x288 with 2 Axes>"
      ]
     },
     "metadata": {
      "needs_background": "light"
     },
     "output_type": "display_data"
    }
   ],
   "source": [
    "rf = RandomForestClassifier(random_state=42)\n",
    "\n",
    "rf.fit(X_train_with_tsfresh, y_train)\n",
    "    \n",
    "y_pred = rf.predict(X_test_with_tsfresh)\n",
    "\n",
    "cm = ConfusionMatrixDisplay.from_predictions(y_test, y_pred, \n",
    "                                            display_labels=['Class 0', 'Class 1'], \n",
    "                                            cmap='Blues', \n",
    "                                            normalize=None)\n",
    " \n",
    "print(classification_report(y_test, y_pred))\n",
    "print(\"F1: \",f1_score(y_test, y_pred))\n",
    "print(f'Accuracy: {accuracy_score(y_test, y_pred):.4f}')"
   ]
  },
  {
   "cell_type": "code",
   "execution_count": 18,
   "id": "d5614878",
   "metadata": {},
   "outputs": [
    {
     "name": "stderr",
     "output_type": "stream",
     "text": [
      "/Users/evasarlin/opt/anaconda3/lib/python3.8/site-packages/sklearn/utils/validation.py:1688: FutureWarning: Feature names only support names that are all strings. Got feature names with dtypes: ['int', 'str']. An error will be raised in 1.2.\n",
      "  warnings.warn(\n",
      "/Users/evasarlin/opt/anaconda3/lib/python3.8/site-packages/sklearn/utils/validation.py:1688: FutureWarning: Feature names only support names that are all strings. Got feature names with dtypes: ['int', 'str']. An error will be raised in 1.2.\n",
      "  warnings.warn(\n"
     ]
    },
    {
     "name": "stdout",
     "output_type": "stream",
     "text": [
      "              precision    recall  f1-score   support\n",
      "\n",
      "         0.0       0.83      0.68      0.75       809\n",
      "         1.0       0.89      0.94      0.91      2102\n",
      "\n",
      "    accuracy                           0.87      2911\n",
      "   macro avg       0.86      0.81      0.83      2911\n",
      "weighted avg       0.87      0.87      0.87      2911\n",
      "\n",
      "F1:  0.9145751784480773\n",
      "Accuracy: 0.8726\n"
     ]
    },
    {
     "data": {
      "image/png": "[encoded data removed]",
      "text/plain": [
       "<Figure size 432x288 with 2 Axes>"
      ]
     },
     "metadata": {
      "needs_background": "light"
     },
     "output_type": "display_data"
    }
   ],
   "source": [
    "svm = SVC(random_state=42)\n",
    "\n",
    "svm.fit(X_train_with_tsfresh, y_train)\n",
    "    \n",
    "y_pred = svm.predict(X_test_with_tsfresh)\n",
    "\n",
    "cm = ConfusionMatrixDisplay.from_predictions(y_test, y_pred, \n",
    "                                            display_labels=['Class 0', 'Class 1'], \n",
    "                                            cmap='Blues', \n",
    "                                            normalize=None)\n",
    " \n",
    "print(classification_report(y_test, y_pred))\n",
    "print(\"F1: \",f1_score(y_test, y_pred))\n",
    "print(f'Accuracy: {accuracy_score(y_test, y_pred):.4f}')"
   ]
  }
 ],
 "metadata": {
  "kernelspec": {
   "display_name": "Python 3 (ipykernel)",
   "language": "python",
   "name": "python3"
  },
  "language_info": {
   "codemirror_mode": {
    "name": "ipython",
    "version": 3
   },
   "file_extension": ".py",
   "mimetype": "text/x-python",
   "name": "python",
   "nbconvert_exporter": "python",
   "pygments_lexer": "ipython3",
   "version": "3.8.12"
  }
 },
 "nbformat": 4,
 "nbformat_minor": 5
}
