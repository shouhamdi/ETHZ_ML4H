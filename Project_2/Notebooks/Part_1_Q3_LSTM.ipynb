{
 "cells": [
  {
   "cell_type": "code",
   "execution_count": 95,
   "metadata": {},
   "outputs": [],
   "source": [
    "# import packages for doing time series classification form .csv files\n",
    "\n",
    "import pandas as pd\n",
    "import numpy as np\n",
    "import matplotlib.pyplot as plt\n",
    "from sklearn.model_selection import train_test_split\n",
    "from sklearn.preprocessing import StandardScaler\n",
    "from sklearn.metrics import confusion_matrix, ConfusionMatrixDisplay\n",
    "from sklearn.metrics import accuracy_score\n",
    "from sklearn.metrics import f1_score\n",
    "from sklearn.metrics import classification_report\n",
    "from sklearn.metrics import roc_auc_score\n",
    "from sklearn.metrics import roc_curve\n",
    "\n",
    "\n",
    "import torch\n",
    "import torch.nn as nn\n",
    "import torch.nn.functional as F\n",
    "import torch.optim as optim\n",
    "from torch.autograd import Variable\n",
    "from torch.utils.data import DataLoader, TensorDataset, Dataset\n",
    "\n",
    "device = torch.device('cuda' if torch.cuda.is_available() else 'cpu')"
   ]
  },
  {
   "cell_type": "code",
   "execution_count": 4,
   "metadata": {},
   "outputs": [
    {
     "name": "stdout",
     "output_type": "stream",
     "text": [
      "Percentage of class 1 in the training set:  0.7219311055751224\n",
      "Percentage of class 0 in the training set:  0.2780688944248776\n"
     ]
    }
   ],
   "source": [
    "# load the data (there is no header)\n",
    "\n",
    "data_train = pd.read_csv(\n",
    "    \"project2_TS_input/ptbdb_train.csv\",\n",
    "    header=None,\n",
    ")\n",
    "\n",
    "# the last column is the label\n",
    "y_train = data_train[187].astype(int)\n",
    "\n",
    "\n",
    "# the data is the rest\n",
    "X_train = data_train.iloc[:, 0:187]\n",
    "\n",
    "# load the test data\n",
    "data_test = pd.read_csv(\n",
    "    \"project2_TS_input/ptbdb_test.csv\",\n",
    "    header=None,\n",
    ")\n",
    "\n",
    "# the last column is the label\n",
    "y_test = data_test[187].astype(int)\n",
    "\n",
    "# the data is the rest\n",
    "X_test = data_test.iloc[:, 0:187]\n",
    "\n",
    "#Get the percentage of class 1 and 0 in the training set\n",
    "print(\"Percentage of class 1 in the training set: \", y_train.sum()/len(y_train))\n",
    "print(\"Percentage of class 0 in the training set: \", 1-y_train.sum()/len(y_train))"
   ]
  },
  {
   "cell_type": "code",
   "execution_count": 70,
   "metadata": {},
   "outputs": [],
   "source": [
    "class Dataset(torch.utils.data.Dataset):\n",
    "    def __init__(self, X, y):\n",
    "        self.X = X\n",
    "        self.y = y\n",
    "\n",
    "    def __len__(self):\n",
    "        return len(self.X)\n",
    "\n",
    "    def __getitem__(self, index):\n",
    "        return self.X[index], self.y[index]\n",
    "\n",
    "\n",
    "# Calculate class imbalance\n",
    "def calculate_class_weights(labels, printa = False):\n",
    "    class_0_number, class_1_number = torch.bincount(labels.long())\n",
    "    if printa:\n",
    "        print(\"Class 0 counts: \", class_0_number)\n",
    "        print(\"Class 1 counts: \", class_1_number)\n",
    "\n",
    "    weight = class_0_number / class_1_number\n",
    "    if printa:\n",
    "        print(\"Class 0 weight: \", 1)\n",
    "        print(\"Class 1 weight: \", weight)\n",
    "        \n",
    "    return weight\n",
    "\n",
    "# create a dataloader\n",
    "train_data = Dataset(torch.tensor(X_train.values).float(), torch.tensor(y_train.values).float())\n",
    "train_loader = DataLoader(train_data, batch_size=64, shuffle=True) #11641\n",
    "test_data = Dataset(torch.tensor(X_test.values).float(), torch.tensor(y_test.values).float())\n",
    "test_loader = DataLoader(test_data, batch_size=2911, shuffle=True)"
   ]
  },
  {
   "cell_type": "code",
   "execution_count": 104,
   "metadata": {},
   "outputs": [],
   "source": [
    "# create a model\n",
    "class LSTMBinaryClassifier(nn.Module):\n",
    "    def __init__(self, input_size, hidden_size, num_layers, output_size):\n",
    "        super(LSTMBinaryClassifier, self).__init__()\n",
    "        self.hidden_size = hidden_size\n",
    "        self.num_layers = num_layers\n",
    "\n",
    "        self.lstm = nn.LSTM(\n",
    "            input_size, hidden_size, num_layers, batch_first=True, dropout=0.2\n",
    "        )\n",
    "        self.fc = nn.Linear(187*hidden_size, output_size)\n",
    "\n",
    "    def forward(self, x):\n",
    "        x = x.unsqueeze(-1)\n",
    "\n",
    "        # Initialize hidden state with zeros\n",
    "        h0 = torch.zeros(self.num_layers, x.size(0), self.hidden_size).to(x.device)\n",
    "        c0 = torch.zeros(self.num_layers, x.size(0), self.hidden_size).to(x.device)\n",
    "\n",
    "        # Forward propagate LSTM\n",
    "        out, (hn, cn) = self.lstm(x, (h0, c0))\n",
    "        #print(out.shape)\n",
    "        out = out.reshape(out.size(0), -1) \n",
    "        #print(out.shape)\n",
    "        out = self.fc(out)\n",
    "        #out = torch.sigmoid(out)\n",
    "\n",
    "        return out\n",
    "\n",
    "    def train_model(self, num_epochs, train_loader, criterion, optimizer, plot=True):\n",
    "        losses = []\n",
    "        # Train the model\n",
    "        total_step = len(train_loader)\n",
    "        for epoch in range(num_epochs):\n",
    "            for i, (sequence, labels) in enumerate(train_loader):\n",
    "                sequence = sequence.to(device)\n",
    "                labels = labels.to(device)\n",
    "\n",
    "                # Forward pass\n",
    "                outputs = self(sequence)\n",
    "                loss = criterion(\n",
    "                    outputs.squeeze(), labels\n",
    "                )  # Squeeze outputs to match labels shape\n",
    "                losses.append(loss.item())\n",
    "\n",
    "                # Backward and optimize\n",
    "                optimizer.zero_grad()\n",
    "                loss.backward()\n",
    "                optimizer.step()\n",
    "\n",
    "                if (i + 1) % 128 == 0:\n",
    "                    print(\n",
    "                        \"Epoch [{}/{}], Step [{}/{}], Loss: {:.4f}\".format(\n",
    "                            epoch + 1, num_epochs, i + 1, total_step, loss.item()\n",
    "                        )\n",
    "                    )\n",
    "\n",
    "        # Plot the loss\n",
    "        if plot:\n",
    "            plt.plot(losses)\n",
    "            plt.title(\"Loss\")\n",
    "            plt.xlabel(\"Step\")\n",
    "            plt.ylabel(\"Loss\")\n",
    "            plt.show()\n",
    "\n",
    "        return self\n",
    "\n",
    "    def evaluate_model(self, test_loader, threshold=0.5, plot_confusion_matrix=False):\n",
    "        self.eval()\n",
    "        with torch.no_grad():\n",
    "            correct = 0\n",
    "            total = 0\n",
    "            for sequence, labels in test_loader:\n",
    "                sequence = sequence.to(device)\n",
    "                labels = labels.to(device)\n",
    "                outputs = self(sequence)\n",
    "                predicted = (outputs > threshold).float()\n",
    "                total += labels.size(0)\n",
    "                correct += (predicted == labels.view(-1, 1)).sum().item()\n",
    "\n",
    "            print(\n",
    "                \"Accuracy of the model on the test set: {} %\".format(\n",
    "                    100 * correct / total\n",
    "                )\n",
    "            )\n",
    "\n",
    "            if plot_confusion_matrix:\n",
    "                y_true = labels.cpu().numpy()\n",
    "                y_pred = predicted.cpu().numpy()\n",
    "                cm = ConfusionMatrixDisplay.from_predictions(y_true, y_pred, \n",
    "                                            display_labels=['Class 0', 'Class 1'], \n",
    "                                            cmap='Blues', \n",
    "                                            normalize=None)\n",
    " \n",
    "                print(classification_report(y_true, y_pred))\n",
    "\n",
    "        return self"
   ]
  },
  {
   "cell_type": "markdown",
   "metadata": {},
   "source": [
    "# unidirectional  LSTM "
   ]
  },
  {
   "cell_type": "code",
   "execution_count": 105,
   "metadata": {},
   "outputs": [
    {
     "name": "stdout",
     "output_type": "stream",
     "text": [
      "Class weights tensor:  tensor(0.3852)\n"
     ]
    },
    {
     "name": "stderr",
     "output_type": "stream",
     "text": [
      "/var/folders/jj/m28xy22x5w74b624rj27hpn80000gn/T/ipykernel_44715/4158824606.py:13: UserWarning: To copy construct from a tensor, it is recommended to use sourceTensor.clone().detach() or sourceTensor.clone().detach().requires_grad_(True), rather than torch.tensor(sourceTensor).\n",
      "  class_weights_tensor = torch.tensor(class_weights, dtype=torch.float32).to(device)\n"
     ]
    }
   ],
   "source": [
    "# Hyperparameters\n",
    "input_size = 1\n",
    "hidden_size = 10\n",
    "num_layers = 2\n",
    "output_size = 1\n",
    "learning_rate = 0.001\n",
    "num_epochs = 10\n",
    "\n",
    "# Calculate class weights\n",
    "class_weights = calculate_class_weights(torch.tensor(y_train.values))\n",
    "\n",
    "# Convert class weights to tensor (uncomment this if you want to use class weights)\n",
    "class_weights_tensor = torch.tensor(class_weights, dtype=torch.float32).to(device)\n",
    "\n",
    "# Set class weights to 1 (uncomment this if you don't want to use class weights)\n",
    "# class_weights_tensor = torch.tensor(1, dtype=torch.float32).to(device)\n",
    "\n",
    "\n",
    "print(\"Class weights tensor: \", class_weights_tensor)"
   ]
  },
  {
   "cell_type": "code",
   "execution_count": 106,
   "metadata": {},
   "outputs": [
    {
     "name": "stdout",
     "output_type": "stream",
     "text": [
      "Epoch [1/10], Step [128/182], Loss: 0.3814\n",
      "Epoch [2/10], Step [128/182], Loss: 0.3496\n",
      "Epoch [3/10], Step [128/182], Loss: 0.4316\n",
      "Epoch [4/10], Step [128/182], Loss: 0.3431\n",
      "Epoch [5/10], Step [128/182], Loss: 0.4259\n",
      "Epoch [6/10], Step [128/182], Loss: 0.4441\n",
      "Epoch [7/10], Step [128/182], Loss: 0.3274\n",
      "Epoch [8/10], Step [128/182], Loss: 0.2712\n",
      "Epoch [9/10], Step [128/182], Loss: 0.2254\n",
      "Epoch [10/10], Step [128/182], Loss: 0.3784\n"
     ]
    },
    {
     "data": {
      "image/png": "[encoded data removed]",
      "text/plain": [
       "<Figure size 432x288 with 1 Axes>"
      ]
     },
     "metadata": {
      "needs_background": "light"
     },
     "output_type": "display_data"
    },
    {
     "data": {
      "text/plain": [
       "LSTMBinaryClassifier(\n",
       "  (lstm): LSTM(1, 10, num_layers=2, batch_first=True, dropout=0.2)\n",
       "  (fc): Linear(in_features=1870, out_features=1, bias=True)\n",
       ")"
      ]
     },
     "execution_count": 106,
     "metadata": {},
     "output_type": "execute_result"
    }
   ],
   "source": [
    "# Create model instance\n",
    "model = LSTMBinaryClassifier(input_size, hidden_size, num_layers, output_size).to(\n",
    "    device\n",
    ")\n",
    "\n",
    "# Loss and optimizer\n",
    "criterion = nn.BCEWithLogitsLoss()\n",
    "optimizer = torch.optim.Adam(model.parameters(), lr=learning_rate)\n",
    "\n",
    "# Train the model\n",
    "model.train_model(num_epochs, train_loader, criterion, optimizer)\n",
    "\n"
   ]
  },
  {
   "cell_type": "code",
   "execution_count": 107,
   "metadata": {},
   "outputs": [
    {
     "name": "stdout",
     "output_type": "stream",
     "text": [
      "Accuracy of the model on the test set: 87.18653383716936 %\n",
      "              precision    recall  f1-score   support\n",
      "\n",
      "         0.0       0.73      0.84      0.79       809\n",
      "         1.0       0.94      0.88      0.91      2102\n",
      "\n",
      "    accuracy                           0.87      2911\n",
      "   macro avg       0.84      0.86      0.85      2911\n",
      "weighted avg       0.88      0.87      0.87      2911\n",
      "\n"
     ]
    },
    {
     "data": {
      "text/plain": [
       "LSTMBinaryClassifier(\n",
       "  (lstm): LSTM(1, 10, num_layers=2, batch_first=True, dropout=0.2)\n",
       "  (fc): Linear(in_features=1870, out_features=1, bias=True)\n",
       ")"
      ]
     },
     "execution_count": 107,
     "metadata": {},
     "output_type": "execute_result"
    },
    {
     "data": {
      "image/png": "[encoded data removed]",
      "text/plain": [
       "<Figure size 432x288 with 2 Axes>"
      ]
     },
     "metadata": {
      "needs_background": "light"
     },
     "output_type": "display_data"
    }
   ],
   "source": [
    "# Evaluate the model\n",
    "model.evaluate_model(test_loader, threshold=0.5, plot_confusion_matrix=True)"
   ]
  },
  {
   "cell_type": "markdown",
   "metadata": {},
   "source": [
    "# bidirectional LSTM"
   ]
  },
  {
   "cell_type": "code",
   "execution_count": 98,
   "metadata": {},
   "outputs": [],
   "source": [
    "class biLSTMBinaryClassifier(nn.Module):\n",
    "    def __init__(self, input_size, hidden_size, num_layers, output_size, bidirectional):\n",
    "        super(biLSTMBinaryClassifier, self).__init__()\n",
    "        self.hidden_size = hidden_size\n",
    "        self.num_layers = num_layers\n",
    "\n",
    "        self.lstm = nn.LSTM(\n",
    "            input_size, hidden_size, num_layers, batch_first=True, dropout=0.2, bidirectional=bidirectional\n",
    "        )\n",
    "        self.fc = nn.Linear(2*187*hidden_size, output_size)\n",
    "\n",
    "    def forward(self, x):\n",
    "        x = x.unsqueeze(-1)\n",
    "        # Forward propagate LSTM\n",
    "        out, (hn, cn) = self.lstm(x)\n",
    "        #print(out.shape)\n",
    "        out = out.reshape(out.size(0), -1) \n",
    "        #print(out.shape)\n",
    "        out = self.fc(out)\n",
    "        #out = torch.sigmoid(out)\n",
    "\n",
    "        return out\n",
    "\n",
    "    def train_model(self, num_epochs, train_loader, criterion, optimizer, plot=True):\n",
    "        losses = []\n",
    "        # Train the model\n",
    "        total_step = len(train_loader)\n",
    "        for epoch in range(num_epochs):\n",
    "            for i, (sequence, labels) in enumerate(train_loader):\n",
    "                sequence = sequence.to(device)\n",
    "                labels = labels.to(device)\n",
    "\n",
    "                # Forward pass\n",
    "                outputs = self(sequence)\n",
    "                loss = criterion(\n",
    "                    outputs.squeeze(), labels\n",
    "                )  # Squeeze outputs to match labels shape\n",
    "                losses.append(loss.item())\n",
    "\n",
    "                # Backward and optimize\n",
    "                optimizer.zero_grad()\n",
    "                loss.backward()\n",
    "                optimizer.step()\n",
    "\n",
    "                if (i + 1) % 128 == 0:\n",
    "                    print(\n",
    "                        \"Epoch [{}/{}], Step [{}/{}], Loss: {:.4f}\".format(\n",
    "                            epoch + 1, num_epochs, i + 1, total_step, loss.item()\n",
    "                        )\n",
    "                    )\n",
    "\n",
    "        # Plot the loss\n",
    "        if plot:\n",
    "            plt.plot(losses)\n",
    "            plt.title(\"Loss\")\n",
    "            plt.xlabel(\"Step\")\n",
    "            plt.ylabel(\"Loss\")\n",
    "            plt.show()\n",
    "\n",
    "        return self\n",
    "\n",
    "    def evaluate_model(self, test_loader, threshold=0.5, plot_confusion_matrix=False):\n",
    "        self.eval()\n",
    "        with torch.no_grad():\n",
    "            correct = 0\n",
    "            total = 0\n",
    "            for sequence, labels in test_loader:\n",
    "                sequence = sequence.to(device)\n",
    "                labels = labels.to(device)\n",
    "                outputs = self(sequence)\n",
    "                predicted = (outputs > threshold).float()\n",
    "                total += labels.size(0)\n",
    "                correct += (predicted == labels.view(-1, 1)).sum().item()\n",
    "\n",
    "            print(\n",
    "                \"Accuracy of the model on the test set: {} %\".format(\n",
    "                    100 * correct / total\n",
    "                )\n",
    "            )\n",
    "\n",
    "            if plot_confusion_matrix:\n",
    "                y_true = labels.cpu().numpy()\n",
    "                y_pred = predicted.cpu().numpy()\n",
    "                cm = ConfusionMatrixDisplay.from_predictions(y_true, y_pred, \n",
    "                                            display_labels=['Class 0', 'Class 1'], \n",
    "                                            cmap='Blues', \n",
    "                                            normalize=None)\n",
    " \n",
    "                print(classification_report(y_true, y_pred))\n",
    "\n",
    "        return self"
   ]
  },
  {
   "cell_type": "code",
   "execution_count": 99,
   "metadata": {},
   "outputs": [],
   "source": [
    "# Hyperparameters\n",
    "input_size = 1\n",
    "hidden_size = 10\n",
    "num_layers = 2\n",
    "output_size = 1\n",
    "learning_rate = 0.001\n",
    "num_epochs = 10"
   ]
  },
  {
   "cell_type": "code",
   "execution_count": 108,
   "metadata": {},
   "outputs": [
    {
     "name": "stdout",
     "output_type": "stream",
     "text": [
      "Epoch [1/10], Step [128/182], Loss: 0.4563\n",
      "Epoch [2/10], Step [128/182], Loss: 0.4236\n",
      "Epoch [3/10], Step [128/182], Loss: 0.4379\n",
      "Epoch [4/10], Step [128/182], Loss: 0.4436\n",
      "Epoch [5/10], Step [128/182], Loss: 0.2759\n",
      "Epoch [6/10], Step [128/182], Loss: 0.3255\n",
      "Epoch [7/10], Step [128/182], Loss: 0.2203\n",
      "Epoch [8/10], Step [128/182], Loss: 0.2787\n",
      "Epoch [9/10], Step [128/182], Loss: 0.1746\n",
      "Epoch [10/10], Step [128/182], Loss: 0.2255\n"
     ]
    },
    {
     "data": {
      "image/png": "[encoded data removed]",
      "text/plain": [
       "<Figure size 432x288 with 1 Axes>"
      ]
     },
     "metadata": {
      "needs_background": "light"
     },
     "output_type": "display_data"
    },
    {
     "data": {
      "text/plain": [
       "biLSTMBinaryClassifier(\n",
       "  (lstm): LSTM(1, 10, num_layers=2, batch_first=True, dropout=0.2, bidirectional=True)\n",
       "  (fc): Linear(in_features=3740, out_features=1, bias=True)\n",
       ")"
      ]
     },
     "execution_count": 108,
     "metadata": {},
     "output_type": "execute_result"
    }
   ],
   "source": [
    "# Create model instance\n",
    "model2 = biLSTMBinaryClassifier(input_size, hidden_size, num_layers, output_size,bidirectional=True).to(\n",
    "    device\n",
    ")\n",
    "\n",
    "# Loss and optimizer\n",
    "criterion = nn.BCEWithLogitsLoss()\n",
    "optimizer = torch.optim.Adam(model2.parameters(), lr=learning_rate)\n",
    "\n",
    "# Train the model\n",
    "model2.train_model(num_epochs, train_loader, criterion, optimizer)\n",
    "\n"
   ]
  },
  {
   "cell_type": "code",
   "execution_count": 109,
   "metadata": {},
   "outputs": [
    {
     "name": "stdout",
     "output_type": "stream",
     "text": [
      "Accuracy of the model on the test set: 91.58364823084851 %\n",
      "              precision    recall  f1-score   support\n",
      "\n",
      "         0.0       0.82      0.90      0.86       809\n",
      "         1.0       0.96      0.92      0.94      2102\n",
      "\n",
      "    accuracy                           0.92      2911\n",
      "   macro avg       0.89      0.91      0.90      2911\n",
      "weighted avg       0.92      0.92      0.92      2911\n",
      "\n"
     ]
    },
    {
     "data": {
      "text/plain": [
       "biLSTMBinaryClassifier(\n",
       "  (lstm): LSTM(1, 10, num_layers=2, batch_first=True, dropout=0.2, bidirectional=True)\n",
       "  (fc): Linear(in_features=3740, out_features=1, bias=True)\n",
       ")"
      ]
     },
     "execution_count": 109,
     "metadata": {},
     "output_type": "execute_result"
    },
    {
     "data": {
      "image/png": "[encoded data removed]",
      "text/plain": [
       "<Figure size 432x288 with 2 Axes>"
      ]
     },
     "metadata": {
      "needs_background": "light"
     },
     "output_type": "display_data"
    }
   ],
   "source": [
    "# Evaluate the model\n",
    "model2.evaluate_model(test_loader, threshold=0.5, plot_confusion_matrix=True)"
   ]
  },
  {
   "cell_type": "code",
   "execution_count": null,
   "metadata": {},
   "outputs": [],
   "source": []
  }
 ],
 "metadata": {
  "kernelspec": {
   "display_name": "Python 3 (ipykernel)",
   "language": "python",
   "name": "python3"
  },
  "language_info": {
   "codemirror_mode": {
    "name": "ipython",
    "version": 3
   },
   "file_extension": ".py",
   "mimetype": "text/x-python",
   "name": "python",
   "nbconvert_exporter": "python",
   "pygments_lexer": "ipython3",
   "version": "3.8.12"
  }
 },
 "nbformat": 4,
 "nbformat_minor": 2
}
